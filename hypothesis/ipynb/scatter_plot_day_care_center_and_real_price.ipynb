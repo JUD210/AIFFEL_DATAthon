{
  "cells": [
    {
      "cell_type": "code",
      "execution_count": 1,
      "metadata": {
        "colab": {
          "base_uri": "https://localhost:8080/"
        },
        "id": "IzwmRRea0ZV9",
        "outputId": "264e6534-f918-485f-d384-8b5459e97929"
      },
      "outputs": [],
      "source": [
        "# from google.colab import drive\n",
        "# drive.mount('/content/drive')"
      ]
    },
    {
      "cell_type": "code",
      "execution_count": 2,
      "metadata": {
        "id": "KbhIEc802ohV"
      },
      "outputs": [],
      "source": [
        "import pandas as pd\n",
        "import matplotlib.pyplot as plt\n",
        "\n",
        "# 데이터 불러오기\n",
        "day_care_center_path = '../../dataset/day_care_center.csv'\n",
        "transaction_price_path = '../../dataset/train_add__gu__park__day_care_count.csv'\n",
        "\n",
        "day_care_data = pd.read_csv(day_care_center_path)\n",
        "transaction_data = pd.read_csv(transaction_price_path)\n"
      ]
    },
    {
      "cell_type": "code",
      "execution_count": 3,
      "metadata": {
        "colab": {
          "base_uri": "https://localhost:8080/"
        },
        "id": "LDDpheAA0Ohh",
        "outputId": "2b4f5e35-f5e7-415a-b13c-41e6f2b25f8b"
      },
      "outputs": [
        {
          "name": "stdout",
          "output_type": "stream",
          "text": [
            "    city    gu day_care_name day_care_type  day_care_baby_num  teacher_num  \\\n",
            "0  서울특별시  서대문구        가람어린이집           국공립                 70         11.0   \n",
            "1  서울특별시  서대문구      가좌제일어린이집           국공립                 88         22.0   \n",
            "2  서울특별시  서대문구       경찰청어린이집            직장                 90         23.0   \n",
            "3  서울특별시  서대문구      고운햇살어린이집            가정                 18          5.0   \n",
            "4  서울특별시  서대문구        고은어린이집           국공립                 93         20.0   \n",
            "\n",
            "   nursing_room_num  playground_num  CCTV_num is_commuting_vehicle  \\\n",
            "0               5.0             1.0       7.0                    N   \n",
            "1               5.0             2.0      10.0                    N   \n",
            "2               6.0             1.0      32.0                    N   \n",
            "3               3.0             0.0       4.0                    N   \n",
            "4               7.0             2.0      10.0                    N   \n",
            "\n",
            "  reference_date  \n",
            "0     2018-07-31  \n",
            "1     2018-07-31  \n",
            "2     2018-07-31  \n",
            "3     2018-07-31  \n",
            "4     2018-07-31  \n"
          ]
        }
      ],
      "source": [
        "\n",
        "import pandas as pd\n",
        "\n",
        "# 어린이집 데이터 파일 경로\n",
        "day_care_center_path = '../../dataset/day_care_center.csv'\n",
        "\n",
        "# 어린이집 데이터 불러오기\n",
        "day_care_data = pd.read_csv(day_care_center_path)\n",
        "\n",
        "# 데이터 구조 확인 (구 정보 확인)\n",
        "print(day_care_data.head())\n",
        "\n"
      ]
    },
    {
      "cell_type": "code",
      "execution_count": 4,
      "metadata": {
        "colab": {
          "base_uri": "https://localhost:8080/"
        },
        "id": "Iqb_c1Qg3BXi",
        "outputId": "d9ea8a20-ef06-4f3a-d690-ff019478fa9a"
      },
      "outputs": [
        {
          "name": "stdout",
          "output_type": "stream",
          "text": [
            "      gu  어린이집 개수\n",
            "0    강남구      223\n",
            "1    강동구      272\n",
            "2    강북구      167\n",
            "3    강서구      997\n",
            "4    관악구      271\n",
            "5    광진구      197\n",
            "6    구로구      334\n",
            "7    금정구      106\n",
            "8    금천구      168\n",
            "9    기장군      178\n",
            "10    남구      143\n",
            "11   노원구      457\n",
            "12   도봉구      255\n",
            "13    동구       39\n",
            "14   동래구      124\n",
            "15   동작구      234\n",
            "16  부산진구      165\n",
            "17    북구      188\n",
            "18   사상구      127\n",
            "19   사하구      203\n",
            "20    서구       40\n",
            "21  서대문구      154\n",
            "22   서초구      204\n",
            "23   성동구      184\n",
            "24   송파구      409\n",
            "25   수영구       77\n",
            "26   양천구      316\n",
            "27   연제구       97\n",
            "28   영도구       49\n",
            "29  영등포구      266\n",
            "30   은평구      283\n",
            "31   종로구       78\n",
            "32    중구       81\n",
            "33   중랑구      242\n",
            "34  해운대구      223\n"
          ]
        }
      ],
      "source": [
        "# '구' 열을 기준으로 어린이집 개수를 세기\n",
        "day_care_count_by_gu = day_care_data.groupby('gu').size().reset_index(name='어린이집 개수')\n",
        "\n",
        "# '어린이집 개수'를 컬럼에 추가하기\n",
        "day_care_data = day_care_data.merge(day_care_count_by_gu, on='gu', how='left')\n",
        "\n",
        "# 구별 어린이집 개수 확인\n",
        "print(day_care_count_by_gu)\n",
        "\n",
        "\n"
      ]
    },
    {
      "cell_type": "code",
      "execution_count": 5,
      "metadata": {
        "colab": {
          "base_uri": "https://localhost:8080/",
          "height": 573
        },
        "id": "1u9O05xM4Ul6",
        "outputId": "a7433fdd-8e6b-409f-bc65-a40ab60e3ea9"
      },
      "outputs": [
        {
          "data": {
            "text/html": [
              "<div>\n",
              "<style scoped>\n",
              "    .dataframe tbody tr th:only-of-type {\n",
              "        vertical-align: middle;\n",
              "    }\n",
              "\n",
              "    .dataframe tbody tr th {\n",
              "        vertical-align: top;\n",
              "    }\n",
              "\n",
              "    .dataframe thead th {\n",
              "        text-align: right;\n",
              "    }\n",
              "</style>\n",
              "<table border=\"1\" class=\"dataframe\">\n",
              "  <thead>\n",
              "    <tr style=\"text-align: right;\">\n",
              "      <th></th>\n",
              "      <th>city</th>\n",
              "      <th>gu</th>\n",
              "      <th>day_care_name</th>\n",
              "      <th>day_care_type</th>\n",
              "      <th>day_care_baby_num</th>\n",
              "      <th>teacher_num</th>\n",
              "      <th>nursing_room_num</th>\n",
              "      <th>playground_num</th>\n",
              "      <th>CCTV_num</th>\n",
              "      <th>is_commuting_vehicle</th>\n",
              "      <th>reference_date</th>\n",
              "      <th>어린이집 개수</th>\n",
              "    </tr>\n",
              "  </thead>\n",
              "  <tbody>\n",
              "    <tr>\n",
              "      <th>0</th>\n",
              "      <td>서울특별시</td>\n",
              "      <td>서대문구</td>\n",
              "      <td>가람어린이집</td>\n",
              "      <td>국공립</td>\n",
              "      <td>70</td>\n",
              "      <td>11.0</td>\n",
              "      <td>5.0</td>\n",
              "      <td>1.0</td>\n",
              "      <td>7.0</td>\n",
              "      <td>N</td>\n",
              "      <td>2018-07-31</td>\n",
              "      <td>154</td>\n",
              "    </tr>\n",
              "    <tr>\n",
              "      <th>1</th>\n",
              "      <td>서울특별시</td>\n",
              "      <td>서대문구</td>\n",
              "      <td>가좌제일어린이집</td>\n",
              "      <td>국공립</td>\n",
              "      <td>88</td>\n",
              "      <td>22.0</td>\n",
              "      <td>5.0</td>\n",
              "      <td>2.0</td>\n",
              "      <td>10.0</td>\n",
              "      <td>N</td>\n",
              "      <td>2018-07-31</td>\n",
              "      <td>154</td>\n",
              "    </tr>\n",
              "    <tr>\n",
              "      <th>2</th>\n",
              "      <td>서울특별시</td>\n",
              "      <td>서대문구</td>\n",
              "      <td>경찰청어린이집</td>\n",
              "      <td>직장</td>\n",
              "      <td>90</td>\n",
              "      <td>23.0</td>\n",
              "      <td>6.0</td>\n",
              "      <td>1.0</td>\n",
              "      <td>32.0</td>\n",
              "      <td>N</td>\n",
              "      <td>2018-07-31</td>\n",
              "      <td>154</td>\n",
              "    </tr>\n",
              "    <tr>\n",
              "      <th>3</th>\n",
              "      <td>서울특별시</td>\n",
              "      <td>서대문구</td>\n",
              "      <td>고운햇살어린이집</td>\n",
              "      <td>가정</td>\n",
              "      <td>18</td>\n",
              "      <td>5.0</td>\n",
              "      <td>3.0</td>\n",
              "      <td>0.0</td>\n",
              "      <td>4.0</td>\n",
              "      <td>N</td>\n",
              "      <td>2018-07-31</td>\n",
              "      <td>154</td>\n",
              "    </tr>\n",
              "    <tr>\n",
              "      <th>4</th>\n",
              "      <td>서울특별시</td>\n",
              "      <td>서대문구</td>\n",
              "      <td>고은어린이집</td>\n",
              "      <td>국공립</td>\n",
              "      <td>93</td>\n",
              "      <td>20.0</td>\n",
              "      <td>7.0</td>\n",
              "      <td>2.0</td>\n",
              "      <td>10.0</td>\n",
              "      <td>N</td>\n",
              "      <td>2018-07-31</td>\n",
              "      <td>154</td>\n",
              "    </tr>\n",
              "  </tbody>\n",
              "</table>\n",
              "</div>"
            ],
            "text/plain": [
              "    city    gu day_care_name day_care_type  day_care_baby_num  teacher_num  \\\n",
              "0  서울특별시  서대문구        가람어린이집           국공립                 70         11.0   \n",
              "1  서울특별시  서대문구      가좌제일어린이집           국공립                 88         22.0   \n",
              "2  서울특별시  서대문구       경찰청어린이집            직장                 90         23.0   \n",
              "3  서울특별시  서대문구      고운햇살어린이집            가정                 18          5.0   \n",
              "4  서울특별시  서대문구        고은어린이집           국공립                 93         20.0   \n",
              "\n",
              "   nursing_room_num  playground_num  CCTV_num is_commuting_vehicle  \\\n",
              "0               5.0             1.0       7.0                    N   \n",
              "1               5.0             2.0      10.0                    N   \n",
              "2               6.0             1.0      32.0                    N   \n",
              "3               3.0             0.0       4.0                    N   \n",
              "4               7.0             2.0      10.0                    N   \n",
              "\n",
              "  reference_date  어린이집 개수  \n",
              "0     2018-07-31      154  \n",
              "1     2018-07-31      154  \n",
              "2     2018-07-31      154  \n",
              "3     2018-07-31      154  \n",
              "4     2018-07-31      154  "
            ]
          },
          "execution_count": 5,
          "metadata": {},
          "output_type": "execute_result"
        }
      ],
      "source": [
        "# 데이터 구조 확인 (컬럼 정보 확인)\n",
        "day_care_data.head()"
      ]
    },
    {
      "cell_type": "code",
      "execution_count": 6,
      "metadata": {
        "id": "A34o1d-C3Pd6"
      },
      "outputs": [],
      "source": [
        "# 어린이집 데이터 확인 및 필요한 열 선택 (예: '구', '어린이집 개수')\n",
        "# 구별로 어린이집 개수를 집계\n",
        "day_care_gu = day_care_data.groupby('gu')['어린이집 개수'].sum().reset_index()\n",
        "\n",
        "# 아파트 실거래 데이터 확인 및 필요한 열 선택 (예: '구', '실거래가')\n",
        "# 구별로 실거래가 평균을 계산\n",
        "transaction_price_gu = transaction_data.groupby('gu')['transaction_real_price'].mean().reset_index()\n",
        "\n"
      ]
    },
    {
      "cell_type": "code",
      "execution_count": 7,
      "metadata": {
        "colab": {
          "base_uri": "https://localhost:8080/"
        },
        "id": "eZBujy883iec",
        "outputId": "01537cf9-1da3-4745-e460-9bd6fc40d06a"
      },
      "outputs": [
        {
          "name": "stdout",
          "output_type": "stream",
          "text": [
            "      gu  transaction_real_price  어린이집 개수\n",
            "0    강남구            95167.633381    49729\n",
            "1    강동구            46180.322386    73984\n",
            "2    강북구            32846.523888    27889\n",
            "3    강서구            35961.630328   994009\n",
            "4    관악구            36149.745618    73441\n",
            "5    광진구            56677.571810    38809\n",
            "6    구로구            33589.535634   111556\n",
            "7    금정구            22736.463471    11236\n",
            "8    금천구            28286.295773    28224\n",
            "9    기장군            19839.405922    31684\n",
            "10    남구            23469.688425    20449\n",
            "11   노원구            29212.908481   208849\n",
            "12   도봉구            28289.357754    65025\n",
            "13    동구            18717.596677     1521\n",
            "14   동래구            23279.718287    15376\n",
            "15   동작구            50891.528677    54756\n",
            "16  부산진구            18753.698471    27225\n",
            "17    북구            17981.371051    35344\n",
            "18   사상구            14933.562957    16129\n",
            "19   사하구            15141.810976    41209\n",
            "20    서구            19592.257367     1600\n",
            "21  서대문구            39217.828424    23716\n",
            "22   서초구            93760.450548    41616\n",
            "23   성동구            52946.757005    33856\n",
            "24   송파구            69447.390203   167281\n",
            "25   수영구            26188.155107     5929\n",
            "26   양천구            51454.592093    99856\n",
            "27   연제구            24178.487135     9409\n",
            "28   영도구            14159.843340     2401\n",
            "29  영등포구            46139.706259    70756\n",
            "30   은평구            38371.311883    80089\n",
            "31   종로구            48968.885914     6084\n",
            "32    중구            45227.809238     6561\n",
            "33   중랑구            30611.301468    58564\n",
            "34  해운대구            26907.117468    49729\n"
          ]
        }
      ],
      "source": [
        "# 두 데이터프레임을 '구'를 기준으로 병합\n",
        "merged_data = pd.merge(transaction_price_gu, day_care_gu, on='gu')\n",
        "\n",
        "# 병합된 데이터 확인\n",
        "print(merged_data)\n",
        "\n"
      ]
    },
    {
      "cell_type": "code",
      "execution_count": 8,
      "metadata": {
        "colab": {
          "base_uri": "https://localhost:8080/",
          "height": 569
        },
        "id": "wkRW0sLQ8ezI",
        "outputId": "c257a6d1-068c-42e7-95c0-d83206294ea9"
      },
      "outputs": [
        {
          "data": {
            "image/png": "[encoded data removed]",
            "text/plain": [
              "<Figure size 1000x600 with 1 Axes>"
            ]
          },
          "metadata": {},
          "output_type": "display_data"
        }
      ],
      "source": [
        "# 어린이집 개수와 실거래가의 관계를 시각화 (산점도)\n",
        "plt.figure(figsize=(10, 6))\n",
        "plt.scatter(merged_data['어린이집 개수'], merged_data['transaction_real_price'], color='blue', alpha=0.6)\n",
        "\n",
        "# 그래프 제목과 축 레이블 설정\n",
        "plt.title('Relationship between Numbers of Centers and Real Price', fontsize=14)\n",
        "plt.xlabel('Numbers of Day Care Centers', fontsize=12)\n",
        "plt.ylabel('Transaction Real Price', fontsize=12)\n",
        "plt.grid(True)\n",
        "\n",
        "# 그래프 표시\n",
        "plt.show()"
      ]
    }
  ],
  "metadata": {
    "colab": {
      "provenance": []
    },
    "kernelspec": {
      "display_name": "_venv_py",
      "language": "python",
      "name": "python3"
    },
    "language_info": {
      "codemirror_mode": {
        "name": "ipython",
        "version": 3
      },
      "file_extension": ".py",
      "mimetype": "text/x-python",
      "name": "python",
      "nbconvert_exporter": "python",
      "pygments_lexer": "ipython3",
      "version": "3.12.6"
    }
  },
  "nbformat": 4,
  "nbformat_minor": 0
}
